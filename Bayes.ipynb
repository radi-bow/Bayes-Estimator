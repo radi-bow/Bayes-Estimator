{
 "cells": [
  {
   "cell_type": "code",
   "execution_count": null,
   "metadata": {},
   "outputs": [],
   "source": [
    "#2つの袋のどちらから球を無作為復元抽出しているかBayes推定する\n",
    "#参考：https://qiita.com/tadOne/items/dcff3e52ea4956008519\n",
    "\n",
    "import matplotlib.pyplot as plt\n",
    "%matplotlib inline\n",
    "\n",
    "bag_a = 0\n",
    "bag_b = 1\n",
    "\n",
    "ball_red = 0\n",
    "ball_white = 1\n",
    "\n",
    "#prior\n",
    "_prob_bag = []\n",
    "_prob_bag.insert(bag_a, 1/2)\n",
    "_prob_bag.insert(bag_b, 1/2)\n",
    "\n",
    "_prob_ball = []\n",
    "\n",
    "#bag_a内の構成\n",
    "_prob_ball_a = []\n",
    "_prob_ball_a.insert(ball_red,2/3)\n",
    "_prob_ball_a.insert(ball_white,1/3)\n",
    "_prob_ball.insert(bag_a, _prob_ball_a)\n",
    "\n",
    "#bag_b内の構成\n",
    "_prob_ball_b = []\n",
    "_prob_ball_b.insert(ball_red,2/5)\n",
    "_prob_ball_b.insert(ball_white,3/5)\n",
    "_prob_ball.insert(bag_b, _prob_ball_b)\n",
    "\n",
    "def posterior(ball_list, bag):\n",
    "    if len(ball_list) == 1:\n",
    "        return _prob_ball[bag][ball_list[0]] * _prob_bag[bag]\n",
    "    else:\n",
    "        return _prob_ball[bag][ball_list[0]] * posterior(ball_list[1:], bag)\n",
    "    \n",
    "def posterior_a(ball_list):\n",
    "    return posterior(ball_list, bag_a) / (posterior(ball_list, bag_a) + posterior(ball_list, bag_b))\n",
    "\n",
    "string = input(\"観測したballの色リストを空白区切りで指定してください． 0:red 1:white >>> \")\n",
    "string_list = string.split()\n",
    "ball_list = []\n",
    "for i in string_list:\n",
    "    ball_list.append(int(i))\n",
    "result_a = [_prob_bag[bag_a]]\n",
    "\n",
    "print(\"初期値：\" + str(result_a[0]))\n",
    "for i in range(len(ball_list)):\n",
    "    val = posterior_a(ball_list[0:i+1])\n",
    "    result_a.append(val)\n",
    "    print(str(i+1) + \"回目：\" + str(val))\n",
    "    \n",
    "plt.title(\"Probability of choosing bag_a\") \n",
    "plt.plot(result_a)"
   ]
  },
  {
   "cell_type": "code",
   "execution_count": null,
   "metadata": {},
   "outputs": [],
   "source": []
  }
 ],
 "metadata": {
  "kernelspec": {
   "display_name": "Python 3",
   "language": "python",
   "name": "python3"
  },
  "language_info": {
   "codemirror_mode": {
    "name": "ipython",
    "version": 3
   },
   "file_extension": ".py",
   "mimetype": "text/x-python",
   "name": "python",
   "nbconvert_exporter": "python",
   "pygments_lexer": "ipython3",
   "version": "3.6.2"
  }
 },
 "nbformat": 4,
 "nbformat_minor": 2
}
